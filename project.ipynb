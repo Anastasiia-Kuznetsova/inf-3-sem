{
 "cells": [
  {
   "cell_type": "markdown",
   "metadata": {},
   "source": [
    "Чтобы определить ускорение частицы, необходимо вычислить значения ее плотности и давления. Следующее уравнение суммирует массы соседей частицы, взвешенные с помощью функции ядра."
   ]
  },
  {
   "cell_type": "markdown",
   "metadata": {},
   "source": [
    " $$ {\\large p_i = \\sum_{j}^{ } m_jW_{ij} } $$"
   ]
  },
  {
   "cell_type": "markdown",
   "metadata": {},
   "source": [
    " <p>\\(W\\) - функция сглаживающего ядра. Она показывает cтепень влияния, которое одна частица оказывает на другую:</p>"
   ]
  },
  {
   "cell_type": "markdown",
   "metadata": {},
   "source": [
    " $$ {\\large  W_{ij} = \\frac{315}{64\\pi h^9}\\left( h^2 - r^2 \\right)^3 } $$"
   ]
  },
  {
   "cell_type": "markdown",
   "metadata": {},
   "source": [
    " <p>После определения плотности частицы давление может быть рассчитано по закону идеального газа:</p>"
   ]
  },
  {
   "cell_type": "markdown",
   "metadata": {},
   "source": [
    " $$ {\\large P = K\\left ( \\rho - \\rho_0 \\right ) } $$\n"
   ]
  },
  {
   "cell_type": "markdown",
   "metadata": {},
   "source": [
    "Теперь определим ускорение, вызванное массами, плотностями и давлениями окружающих частиц"
   ]
  },
  {
   "cell_type": "markdown",
   "metadata": {},
   "source": [
    " $$ {\\large a_i = -\\sum_{j}^{ }\\frac{m_j}{m_i}\\frac{P_i + P_j}\n",
    "            {2p_ip_j}\\bigtriangledown W_{ij} {r}_{ij} } $$"
   ]
  },
  {
   "cell_type": "markdown",
   "metadata": {},
   "source": [
    " $$ {\\large \\bigtriangledown W_{ij} = -\\frac{45}{\\pi h^6}\\left ( h - r \\right )^2 } $$"
   ]
  },
  {
   "cell_type": "markdown",
   "metadata": {},
   "source": [
    "Учтём ускорение, возникающее из-за разности скоростей окружающих частей - вязкое ускорение"
   ]
  },
  {
   "cell_type": "markdown",
   "metadata": {},
   "source": [
    "$$ {\\large a_{v_i} = \\varepsilon \\sum_{j}^{ }\\frac{m_j}{m_i}\\frac{1}{p_j}\n",
    "            \\left ( v_j - v_i \\right ) \\bigtriangledown^2 W_{ij} {r}_{ij} } $$"
   ]
  },
  {
   "cell_type": "markdown",
   "metadata": {},
   "source": [
    "  $$ {\\large  W_{ij} = -\\frac{r^3}{2h^3} + \\frac{r^2}{h^2} + \\frac{h}{2r} - 1 } $$"
   ]
  },
  {
   "cell_type": "code",
   "execution_count": 1,
   "metadata": {},
   "outputs": [],
   "source": [
    "import numpy as np\n",
    "import matplotlib.pyplot as plt\n",
    "import os\n",
    "from matplotlib.animation import FuncAnimation\n",
    "from matplotlib.animation import PillowWriter\n",
    "import math\n",
    "\n",
    "def W(r, h):\n",
    "    if 0 <= r <= h:\n",
    "        return 315.0 / (64.0 * np.pi * h**9) * (h**2 - r**2)**3\n",
    "    return 0.0\n",
    "\n",
    "\n",
    "def grad_W_pressure(x, y, h):\n",
    "    r = np.sqrt(x ** 2 + y ** 2)\n",
    "    if 0 < r <= h:\n",
    "        return np.array([-45.0 / (np.pi * h**6 * r) * x * (h - r)**2,\n",
    "                         -45.0 / (np.pi * h**6 * r) * y * (h - r)**2,])\n",
    "    return np.array([0.0, 0.0])\n",
    "\n",
    "\n",
    "\n",
    "def lap_W_viscosity(r, h):\n",
    "    if 0 < r <= h:\n",
    "        return  45.0 / (np.pi * h**6) * (h - r)\n",
    "    return 0.0"
   ]
  },
  {
   "cell_type": "code",
   "execution_count": 2,
   "metadata": {},
   "outputs": [],
   "source": [
    "def apply_bc(x, y, u, v, x_min, x_max, y_min, y_max, bdry_reflec):\n",
    "    for i in range(len(x)):\n",
    "        if x[i] < x_min:\n",
    "            u[i] *= - bdry_reflec\n",
    "            x[i] = x_min\n",
    "          \n",
    "        elif x[i] > x_max:\n",
    "            u[i] *= - bdry_reflec\n",
    "            x[i] = x_max\n",
    "           \n",
    "        if y[i] < y_min:\n",
    "            v[i] *= - bdry_reflec\n",
    "            y[i] = y_min\n",
    "          \n",
    "        elif y[i] > y_max:\n",
    "            v[i] *= - bdry_reflec\n",
    "            y[i] = y_max\n",
    "           "
   ]
  },
  {
   "cell_type": "code",
   "execution_count": 3,
   "metadata": {},
   "outputs": [],
   "source": [
    "def calculate_density(m, W, x, y, h):\n",
    "    density = np.zeros(len(x))\n",
    "    for i in range(len(x)):\n",
    "        for j in range(len(x)):\n",
    "            r = np.sqrt((x[i] - x[j]) ** 2 + (y[i] - y[j]) ** 2)\n",
    "            density[i] += m * W(r, h)\n",
    "    return density\n",
    "\n",
    "def calculate_pressure(k, rho, rho0):\n",
    "    return k * (rho - rho0)\n",
    "\n",
    "def acceleration(m, x, y, u, v, rho, P, g, viscosity, h, grad_W_pre, lap_W_viscosity):\n",
    "    accel_x = np.zeros(len(x))\n",
    "    accel_y = np.zeros(len(x))\n",
    "    for i in range(len(x)):\n",
    "        grav_x = 0.0\n",
    "        grav_y = - g\n",
    "        for j in range(len(x)):\n",
    "            if i==j:\n",
    "                continue\n",
    "            dx = x[i] - x[j]\n",
    "            dy = y[i] - y[j]\n",
    "            rij = np.sqrt(dx ** 2 + dy ** 2)\n",
    "\n",
    "            v_rel_x = u[i] - u[j]\n",
    "            v_rel_y = v[i] - v[j]\n",
    "\n",
    "            gradWij = grad_W_pressure(dx, dy , h)\n",
    "\n",
    "            grad_P_x =  m * (P[i] + P[j]) * gradWij[0] / (2 * rho[i] * rho[j])\n",
    "            grad_P_y =  m * (P[i] + P[j]) * gradWij[1] / (2 * rho[i] * rho[j])\n",
    "\n",
    "            viscosity_x = m * viscosity * (u[j]-u[i]) * lap_W_viscosity(rij, h) / (rho[i]*rho[j])\n",
    "            viscosity_y = m * viscosity * (v[j]-v[i]) * lap_W_viscosity(rij, h) / (rho[i]*rho[j])\n",
    "\n",
    "            accel_x[i] +=  (grad_P_x + viscosity_x)\n",
    "            accel_y[i] +=  (grad_P_y + viscosity_y)\n",
    "\n",
    "        accel_x[i] +=  grav_x\n",
    "        accel_y[i] +=  grav_y\n",
    "    return accel_x, accel_y\n",
    "\n",
    "def euler(x, y, u, v, dt, accel_x, accel_y):\n",
    "    u += dt  * accel_x\n",
    "    v += dt  * accel_y\n",
    "    x += dt * u\n",
    "    y += dt * v"
   ]
  },
  {
   "cell_type": "code",
   "execution_count": 4,
   "metadata": {},
   "outputs": [],
   "source": [
    "N = 100            # Число частиц\n",
    "h = 5              # Сглаживающая длина\n",
    "width = 400        # Ширина\n",
    "height = 500       # Высота\n",
    "m = 1.             # Масса\n",
    "rho0 = 1.          # Статическая плотность\n",
    "dt = 0.05          # Шаг по времени\n",
    "k = 20             # K \n",
    "g = 10             # гравитационное ускорение\n",
    "final_time = 30    # полное время\n",
    "viscosity = 0.5    # Коэффициент вязкости\n",
    "bdry_reflec = 0.5  # коэффициент отражения\n",
    "total_steps = int(final_time / dt)\n",
    "\n",
    "x_min, y_min = 0 , 0\n",
    "x_max, y_max = width, height\n",
    "\n",
    "x = np.zeros(N)\n",
    "y = np.zeros(N)\n",
    "\n",
    "\n",
    "i=0\n",
    "np.random.seed(42)\n",
    "for yi in np.arange(y_min + 10, y_max, 7):\n",
    "    for xi in np.arange(x_min + 10,  int((x_max - x_min) * 0.25), 9):\n",
    "        if i < N:\n",
    "            x[i],y[i] = xi + np.random.uniform(0, 2), yi + np.random.uniform(0, 2)\n",
    "        i += 1\n",
    "    pass\n",
    "\n",
    "u = np.zeros(N)\n",
    "v = np.zeros(N)\n",
    "accel_x = np.zeros(N)\n",
    "accel_y = np.zeros(N)\n",
    "rho = np.zeros(N)\n",
    "P = np.zeros(N)"
   ]
  },
  {
   "cell_type": "code",
   "execution_count": 5,
   "metadata": {},
   "outputs": [
    {
     "data": {
      "image/png": "[encoded data removed]",
      "text/plain": [
       "<Figure size 432x288 with 1 Axes>"
      ]
     },
     "metadata": {
      "needs_background": "light"
     },
     "output_type": "display_data"
    }
   ],
   "source": [
    "fig, ax = plt.subplots()\n",
    "def animate(i, m, W, x, y, h, k, rho, rho0, u, v, dt, x_min, x_max, y_min, y_max, bdry_reflec):\n",
    "    rho = calculate_density(m, W, x, y, h)\n",
    "    P =calculate_pressure(k, rho, rho0)\n",
    "    accel_x, accel_y = acceleration(m, x, y, u, v, rho, P, g, viscosity,h, grad_W_pressure, lap_W_viscosity)\n",
    "    euler(x, y, u, v, dt, accel_x, accel_y)\n",
    "    apply_bc(x, y, u, v, x_min, x_max, y_min, y_max, bdry_reflec)\n",
    "    \n",
    "    ax.clear()\n",
    "    cval = rho.flatten()\n",
    "    ax.set_xlim(0, x_max)\n",
    "    ax.set_ylim(0, y_max)\n",
    "    ax.set_xlabel('X')\n",
    "    ax.set_ylabel('Y')\n",
    "    ax.set_title(f'SPH Simulation step: {i+1}')\n",
    "    scat = plt.scatter(x, y, c=cval, cmap=plt.cm.cool, s=20, alpha=0.5)\n",
    "\n",
    "\n",
    "anim = FuncAnimation(fig=fig, func=animate, frames=total_steps, interval=30,\n",
    "                               fargs=(m, W, x, y, h, k, rho, rho0, u, v, dt, x_min, x_max, y_min, y_max, bdry_reflec))\n",
    "\n",
    "Writer = PillowWriter(fps=30)\n",
    "anim.save('test5.mp4',  dpi = 300)\n",
    "plt.show()  "
   ]
  },
  {
   "cell_type": "code",
   "execution_count": null,
   "metadata": {},
   "outputs": [],
   "source": []
  }
 ],
 "metadata": {
  "kernelspec": {
   "display_name": "Python 3",
   "language": "python",
   "name": "python3"
  },
  "language_info": {
   "codemirror_mode": {
    "name": "ipython",
    "version": 3
   },
   "file_extension": ".py",
   "mimetype": "text/x-python",
   "name": "python",
   "nbconvert_exporter": "python",
   "pygments_lexer": "ipython3",
   "version": "3.8.3"
  }
 },
 "nbformat": 4,
 "nbformat_minor": 4
}
